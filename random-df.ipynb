{
 "cells": [
  {
   "cell_type": "code",
   "execution_count": 17,
   "id": "5f517102",
   "metadata": {},
   "outputs": [],
   "source": [
    "import random\n",
    "import string\n"
   ]
  },
  {
   "cell_type": "code",
   "execution_count": 22,
   "id": "52eba5e8",
   "metadata": {},
   "outputs": [],
   "source": [
    "def generate_random_id(length):\n",
    "    letters_and_digits = string.ascii_letters + string.digits\n",
    "    return ''.join(random.choice(letters_and_digits) for i in range(length))\n",
    "\n"
   ]
  },
  {
   "cell_type": "code",
   "execution_count": 41,
   "id": "2a682ecc",
   "metadata": {},
   "outputs": [],
   "source": [
    "random_name=generate_random_id(5)\n",
    "name = str.upper(random_name)\n"
   ]
  },
  {
   "cell_type": "code",
   "execution_count": 43,
   "id": "9b54c83f",
   "metadata": {},
   "outputs": [
    {
     "name": "stdout",
     "output_type": "stream",
     "text": [
      "6IGA1\n"
     ]
    }
   ],
   "source": [
    "print(random_uppercase_string)"
   ]
  }
 ],
 "metadata": {
  "kernelspec": {
   "display_name": "Python 3 (ipykernel)",
   "language": "python",
   "name": "python3"
  },
  "language_info": {
   "codemirror_mode": {
    "name": "ipython",
    "version": 3
   },
   "file_extension": ".py",
   "mimetype": "text/x-python",
   "name": "python",
   "nbconvert_exporter": "python",
   "pygments_lexer": "ipython3",
   "version": "3.10.11"
  }
 },
 "nbformat": 4,
 "nbformat_minor": 5
}
